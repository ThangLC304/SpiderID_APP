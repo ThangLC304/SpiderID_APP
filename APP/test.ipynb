{
 "cells": [
  {
   "cell_type": "code",
   "execution_count": 1,
   "metadata": {},
   "outputs": [],
   "source": [
    "import os"
   ]
  },
  {
   "cell_type": "code",
   "execution_count": null,
   "metadata": {},
   "outputs": [],
   "source": [
    "ROOT_DIR = r'C:\\Code\\ChungyuanProjects\\SpiderDataset01\\APP'\n",
    "\n",
    "GENERA_LIST_PATH = os.path.join(ROOT_DIR, 'bin', 'genera_list.csv')\n",
    "with open( GENERA_LIST_PATH, 'r') as f:\n",
    "    genera_list = f.read().strip().split(',')\n",
    "\n",
    "genera_list"
   ]
  },
  {
   "cell_type": "code",
   "execution_count": 5,
   "metadata": {},
   "outputs": [
    {
     "data": {
      "text/plain": [
       "'Araneus-ventricosus_21.jpg'"
      ]
     },
     "execution_count": 5,
     "metadata": {},
     "output_type": "execute_result"
    }
   ],
   "source": [
    "#display the bounding box of the image\n",
    "example_path = r'C:\\Code\\ChungyuanProjects\\SpiderDataset01\\APP\\runs\\detect\\exp'\n",
    "img_name = [x for x in os.listdir(example_path) if x.endswith('.jpg')][0]\n",
    "label_path = os.path.join(example_path, 'labels', img_name.replace('.jpg', '.txt'))"
   ]
  },
  {
   "cell_type": "code",
   "execution_count": 6,
   "metadata": {},
   "outputs": [
    {
     "data": {
      "text/plain": [
       "'C:\\\\Code\\\\ChungyuanProjects\\\\SpiderDataset01\\\\APP\\\\runs\\\\detect\\\\exp\\\\labels\\\\Araneus-ventricosus_21.txt'"
      ]
     },
     "execution_count": 6,
     "metadata": {},
     "output_type": "execute_result"
    }
   ],
   "source": []
  },
  {
   "cell_type": "code",
   "execution_count": 1,
   "metadata": {},
   "outputs": [
    {
     "name": "stdout",
     "output_type": "stream",
     "text": [
      "result/detection1\n"
     ]
    }
   ],
   "source": [
    "path = 'result/detection1'\n",
    "\n",
    "print(path)"
   ]
  },
  {
   "cell_type": "code",
   "execution_count": null,
   "metadata": {},
   "outputs": [],
   "source": [
    "import os\n",
    "from googletrans import Translator\n",
    "\n",
    "def available_name(file_dir, file_name):\n",
    "    i = 0\n",
    "    while os.path.exists(os.path.join(file_dir, file_name)):\n",
    "        i += 1\n",
    "        file_name = file_name.split('.')[0] + '_' + str(i) + '.jpg'\n",
    "\n",
    "# translate Chinese to English\n",
    "def translate_chinese_to_english(chinese_name):\n",
    "    # use googletrans to translate Chinese to English\n",
    "    translator = Translator()\n",
    "    return translator.translate(chinese_name, dest='en').text"
   ]
  },
  {
   "cell_type": "code",
   "execution_count": null,
   "metadata": {},
   "outputs": [],
   "source": [
    "text = \"abcde\"\n",
    "\n",
    "# make it italic\n",
    "print(f\"\\033[3m{text}\\033[0m\")\n",
    "\n",
    "text"
   ]
  },
  {
   "cell_type": "code",
   "execution_count": 9,
   "metadata": {},
   "outputs": [],
   "source": [
    "# load csv from C:\\APPs\\SpiderID_APP\\APP\\result\\exp24\\result.csv\n",
    "import pandas as pd\n",
    "import os\n",
    "\n",
    "df_WG = pd.read_csv(r'C:\\Code\\SpiderID_APP\\APP\\result\\exp6\\result.csv')\n",
    "df_NG = pd.read_csv(r'C:\\Code\\SpiderID_APP\\APP\\result\\exp7\\result.csv')"
   ]
  },
  {
   "cell_type": "code",
   "execution_count": 14,
   "metadata": {},
   "outputs": [
    {
     "data": {
      "text/html": [
       "<div>\n",
       "<style scoped>\n",
       "    .dataframe tbody tr th:only-of-type {\n",
       "        vertical-align: middle;\n",
       "    }\n",
       "\n",
       "    .dataframe tbody tr th {\n",
       "        vertical-align: top;\n",
       "    }\n",
       "\n",
       "    .dataframe thead th {\n",
       "        text-align: right;\n",
       "    }\n",
       "</style>\n",
       "<table border=\"1\" class=\"dataframe\">\n",
       "  <thead>\n",
       "    <tr style=\"text-align: right;\">\n",
       "      <th></th>\n",
       "      <th>image</th>\n",
       "      <th>genus_1</th>\n",
       "      <th>gender_1</th>\n",
       "      <th>confidence_1</th>\n",
       "      <th>genus_2</th>\n",
       "      <th>gender_2</th>\n",
       "      <th>confidence_2</th>\n",
       "      <th>img_withbb_path</th>\n",
       "    </tr>\n",
       "  </thead>\n",
       "  <tbody>\n",
       "    <tr>\n",
       "      <th>0</th>\n",
       "      <td>Dolomedes_raptor_4_1</td>\n",
       "      <td>Dolomedes</td>\n",
       "      <td>F</td>\n",
       "      <td>80.81</td>\n",
       "      <td>NaN</td>\n",
       "      <td>NaN</td>\n",
       "      <td>NaN</td>\n",
       "      <td>C:\\Code\\SpiderID_APP\\APP\\runs\\detect\\exp6\\Dolo...</td>\n",
       "    </tr>\n",
       "    <tr>\n",
       "      <th>1</th>\n",
       "      <td>Dolomedes_raptor_4_10</td>\n",
       "      <td>Dolomedes</td>\n",
       "      <td>F</td>\n",
       "      <td>78.61</td>\n",
       "      <td>NaN</td>\n",
       "      <td>NaN</td>\n",
       "      <td>NaN</td>\n",
       "      <td>C:\\Code\\SpiderID_APP\\APP\\runs\\detect\\exp6\\Dolo...</td>\n",
       "    </tr>\n",
       "    <tr>\n",
       "      <th>2</th>\n",
       "      <td>Dolomedes_raptor_4_100</td>\n",
       "      <td>Dolomedes</td>\n",
       "      <td>F</td>\n",
       "      <td>85.60</td>\n",
       "      <td>NaN</td>\n",
       "      <td>NaN</td>\n",
       "      <td>NaN</td>\n",
       "      <td>C:\\Code\\SpiderID_APP\\APP\\runs\\detect\\exp6\\Dolo...</td>\n",
       "    </tr>\n",
       "    <tr>\n",
       "      <th>3</th>\n",
       "      <td>Dolomedes_raptor_4_101</td>\n",
       "      <td>Dolomedes</td>\n",
       "      <td>F</td>\n",
       "      <td>85.45</td>\n",
       "      <td>NaN</td>\n",
       "      <td>NaN</td>\n",
       "      <td>NaN</td>\n",
       "      <td>C:\\Code\\SpiderID_APP\\APP\\runs\\detect\\exp6\\Dolo...</td>\n",
       "    </tr>\n",
       "    <tr>\n",
       "      <th>4</th>\n",
       "      <td>Dolomedes_raptor_4_102</td>\n",
       "      <td>Dolomedes</td>\n",
       "      <td>F</td>\n",
       "      <td>86.23</td>\n",
       "      <td>NaN</td>\n",
       "      <td>NaN</td>\n",
       "      <td>NaN</td>\n",
       "      <td>C:\\Code\\SpiderID_APP\\APP\\runs\\detect\\exp6\\Dolo...</td>\n",
       "    </tr>\n",
       "  </tbody>\n",
       "</table>\n",
       "</div>"
      ],
      "text/plain": [
       "                    image    genus_1 gender_1  confidence_1 genus_2 gender_2  \\\n",
       "0    Dolomedes_raptor_4_1  Dolomedes        F         80.81     NaN      NaN   \n",
       "1   Dolomedes_raptor_4_10  Dolomedes        F         78.61     NaN      NaN   \n",
       "2  Dolomedes_raptor_4_100  Dolomedes        F         85.60     NaN      NaN   \n",
       "3  Dolomedes_raptor_4_101  Dolomedes        F         85.45     NaN      NaN   \n",
       "4  Dolomedes_raptor_4_102  Dolomedes        F         86.23     NaN      NaN   \n",
       "\n",
       "   confidence_2                                    img_withbb_path  \n",
       "0           NaN  C:\\Code\\SpiderID_APP\\APP\\runs\\detect\\exp6\\Dolo...  \n",
       "1           NaN  C:\\Code\\SpiderID_APP\\APP\\runs\\detect\\exp6\\Dolo...  \n",
       "2           NaN  C:\\Code\\SpiderID_APP\\APP\\runs\\detect\\exp6\\Dolo...  \n",
       "3           NaN  C:\\Code\\SpiderID_APP\\APP\\runs\\detect\\exp6\\Dolo...  \n",
       "4           NaN  C:\\Code\\SpiderID_APP\\APP\\runs\\detect\\exp6\\Dolo...  "
      ]
     },
     "execution_count": 14,
     "metadata": {},
     "output_type": "execute_result"
    }
   ],
   "source": [
    "df_WG.head()"
   ]
  },
  {
   "cell_type": "code",
   "execution_count": 12,
   "metadata": {},
   "outputs": [],
   "source": [
    "weight_type = 'WG'"
   ]
  },
  {
   "cell_type": "code",
   "execution_count": 15,
   "metadata": {},
   "outputs": [],
   "source": [
    "if weight_type == 'WG':\n",
    "    df = df_WG\n",
    "    has_gender = True\n",
    "else:\n",
    "    df = df_NG\n",
    "    has_gender = False\n"
   ]
  },
  {
   "cell_type": "code",
   "execution_count": 16,
   "metadata": {},
   "outputs": [],
   "source": [
    "def add_to_dict(row, g_num, result_dict, has_gender = True):\n",
    "    if not pd.isna(row[f'genus_{g_num}']):\n",
    "        if has_gender == True:\n",
    "            key = (row[f'genus_{g_num}'], row[f'gender_{g_num}'])\n",
    "        else:\n",
    "            key = row[f'genus_{g_num}']\n",
    "        if key not in result_dict:\n",
    "            result_dict[key] = {}\n",
    "            result_dict[key]['count'] = 1\n",
    "            result_dict[key]['confidence'] = row[f'confidence_{g_num}']\n",
    "        else:\n",
    "            result_dict[key]['count'] += 1\n",
    "            result_dict[key]['confidence'] += row[f'confidence_{g_num}']"
   ]
  },
  {
   "cell_type": "code",
   "execution_count": 17,
   "metadata": {},
   "outputs": [
    {
     "ename": "KeyError",
     "evalue": "('Dolomedes', 'F')",
     "output_type": "error",
     "traceback": [
      "\u001b[1;31m---------------------------------------------------------------------------\u001b[0m",
      "\u001b[1;31mKeyError\u001b[0m                                  Traceback (most recent call last)",
      "Cell \u001b[1;32mIn[17], line 3\u001b[0m\n\u001b[0;32m      1\u001b[0m result_dict \u001b[39m=\u001b[39m {}\n\u001b[0;32m      2\u001b[0m \u001b[39mfor\u001b[39;00m idx, row \u001b[39min\u001b[39;00m df\u001b[39m.\u001b[39miterrows():\n\u001b[1;32m----> 3\u001b[0m     add_to_dict(row, \u001b[39m1\u001b[39;49m, result_dict, has_gender \u001b[39m=\u001b[39;49m has_gender)\n\u001b[0;32m      4\u001b[0m     add_to_dict(row, \u001b[39m2\u001b[39m, result_dict, has_gender \u001b[39m=\u001b[39m has_gender)\n",
      "Cell \u001b[1;32mIn[16], line 8\u001b[0m, in \u001b[0;36madd_to_dict\u001b[1;34m(row, g_num, result_dict, has_gender)\u001b[0m\n\u001b[0;32m      6\u001b[0m     key \u001b[39m=\u001b[39m row[\u001b[39mf\u001b[39m\u001b[39m'\u001b[39m\u001b[39mgenus_\u001b[39m\u001b[39m{\u001b[39;00mg_num\u001b[39m}\u001b[39;00m\u001b[39m'\u001b[39m]\n\u001b[0;32m      7\u001b[0m \u001b[39mif\u001b[39;00m key \u001b[39mnot\u001b[39;00m \u001b[39min\u001b[39;00m result_dict:\n\u001b[1;32m----> 8\u001b[0m     result_dict[key][\u001b[39m'\u001b[39m\u001b[39mcount\u001b[39m\u001b[39m'\u001b[39m] \u001b[39m=\u001b[39m \u001b[39m1\u001b[39m\n\u001b[0;32m      9\u001b[0m     result_dict[key][\u001b[39m'\u001b[39m\u001b[39mconfidence\u001b[39m\u001b[39m'\u001b[39m] \u001b[39m=\u001b[39m row[\u001b[39mf\u001b[39m\u001b[39m'\u001b[39m\u001b[39mconfidence_\u001b[39m\u001b[39m{\u001b[39;00mg_num\u001b[39m}\u001b[39;00m\u001b[39m'\u001b[39m]\n\u001b[0;32m     10\u001b[0m \u001b[39melse\u001b[39;00m:\n",
      "\u001b[1;31mKeyError\u001b[0m: ('Dolomedes', 'F')"
     ]
    }
   ],
   "source": [
    "result_dict = {}\n",
    "for idx, row in df.iterrows():\n",
    "    add_to_dict(row, 1, result_dict, has_gender = has_gender)\n",
    "    add_to_dict(row, 2, result_dict, has_gender = has_gender)\n",
    "    "
   ]
  },
  {
   "cell_type": "code",
   "execution_count": 18,
   "metadata": {},
   "outputs": [],
   "source": [
    "result_dict[('Dolomedes', 'F')] = 0"
   ]
  },
  {
   "cell_type": "code",
   "execution_count": null,
   "metadata": {},
   "outputs": [],
   "source": []
  }
 ],
 "metadata": {
  "kernelspec": {
   "display_name": "Python 3.9.13 ('myenv')",
   "language": "python",
   "name": "python3"
  },
  "language_info": {
   "codemirror_mode": {
    "name": "ipython",
    "version": 3
   },
   "file_extension": ".py",
   "mimetype": "text/x-python",
   "name": "python",
   "nbconvert_exporter": "python",
   "pygments_lexer": "ipython3",
   "version": "3.9.15"
  },
  "orig_nbformat": 4,
  "vscode": {
   "interpreter": {
    "hash": "de1e89af3ef8b17e93d79e53c27fdd6267335e03ee420ef3296d6319bf4dd9be"
   }
  }
 },
 "nbformat": 4,
 "nbformat_minor": 2
}
