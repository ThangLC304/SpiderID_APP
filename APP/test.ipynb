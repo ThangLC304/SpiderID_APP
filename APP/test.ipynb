{
 "cells": [
  {
   "cell_type": "code",
   "execution_count": 1,
   "metadata": {},
   "outputs": [],
   "source": [
    "import os"
   ]
  },
  {
   "cell_type": "code",
   "execution_count": null,
   "metadata": {},
   "outputs": [],
   "source": [
    "ROOT_DIR = r'C:\\Code\\ChungyuanProjects\\SpiderDataset01\\APP'\n",
    "\n",
    "GENERA_LIST_PATH = os.path.join(ROOT_DIR, 'bin', 'genera_list.csv')\n",
    "with open( GENERA_LIST_PATH, 'r') as f:\n",
    "    genera_list = f.read().strip().split(',')\n",
    "\n",
    "genera_list"
   ]
  },
  {
   "cell_type": "code",
   "execution_count": 5,
   "metadata": {},
   "outputs": [
    {
     "data": {
      "text/plain": [
       "'Araneus-ventricosus_21.jpg'"
      ]
     },
     "execution_count": 5,
     "metadata": {},
     "output_type": "execute_result"
    }
   ],
   "source": [
    "#display the bounding box of the image\n",
    "example_path = r'C:\\Code\\ChungyuanProjects\\SpiderDataset01\\APP\\runs\\detect\\exp'\n",
    "img_name = [x for x in os.listdir(example_path) if x.endswith('.jpg')][0]\n",
    "label_path = os.path.join(example_path, 'labels', img_name.replace('.jpg', '.txt'))"
   ]
  },
  {
   "cell_type": "code",
   "execution_count": 6,
   "metadata": {},
   "outputs": [
    {
     "data": {
      "text/plain": [
       "'C:\\\\Code\\\\ChungyuanProjects\\\\SpiderDataset01\\\\APP\\\\runs\\\\detect\\\\exp\\\\labels\\\\Araneus-ventricosus_21.txt'"
      ]
     },
     "execution_count": 6,
     "metadata": {},
     "output_type": "execute_result"
    }
   ],
   "source": []
  },
  {
   "cell_type": "code",
   "execution_count": 1,
   "metadata": {},
   "outputs": [
    {
     "name": "stdout",
     "output_type": "stream",
     "text": [
      "result/detection1\n"
     ]
    }
   ],
   "source": [
    "path = 'result/detection1'\n",
    "\n",
    "print(path)"
   ]
  },
  {
   "cell_type": "code",
   "execution_count": null,
   "metadata": {},
   "outputs": [],
   "source": [
    "import os\n",
    "from googletrans import Translator\n",
    "\n",
    "def available_name(file_dir, file_name):\n",
    "    i = 0\n",
    "    while os.path.exists(os.path.join(file_dir, file_name)):\n",
    "        i += 1\n",
    "        file_name = file_name.split('.')[0] + '_' + str(i) + '.jpg'\n",
    "\n",
    "# translate Chinese to English\n",
    "def translate_chinese_to_english(chinese_name):\n",
    "    # use googletrans to translate Chinese to English\n",
    "    translator = Translator()\n",
    "    return translator.translate(chinese_name, dest='en').text"
   ]
  },
  {
   "cell_type": "code",
   "execution_count": null,
   "metadata": {},
   "outputs": [],
   "source": [
    "text = \"abcde\"\n",
    "\n",
    "# make it italic\n",
    "print(f\"\\033[3m{text}\\033[0m\")\n",
    "\n",
    "text"
   ]
  },
  {
   "cell_type": "code",
   "execution_count": null,
   "metadata": {},
   "outputs": [],
   "source": []
  }
 ],
 "metadata": {
  "kernelspec": {
   "display_name": "Python 3.9.13 ('myenv')",
   "language": "python",
   "name": "python3"
  },
  "language_info": {
   "codemirror_mode": {
    "name": "ipython",
    "version": 3
   },
   "file_extension": ".py",
   "mimetype": "text/x-python",
   "name": "python",
   "nbconvert_exporter": "python",
   "pygments_lexer": "ipython3",
   "version": "3.9.13"
  },
  "orig_nbformat": 4,
  "vscode": {
   "interpreter": {
    "hash": "de1e89af3ef8b17e93d79e53c27fdd6267335e03ee420ef3296d6319bf4dd9be"
   }
  }
 },
 "nbformat": 4,
 "nbformat_minor": 2
}
