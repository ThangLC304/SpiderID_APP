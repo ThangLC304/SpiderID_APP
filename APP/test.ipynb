{
 "cells": [
  {
   "cell_type": "code",
   "execution_count": 1,
   "metadata": {},
   "outputs": [],
   "source": [
    "import os"
   ]
  },
  {
   "cell_type": "code",
   "execution_count": null,
   "metadata": {},
   "outputs": [],
   "source": [
    "ROOT_DIR = r'C:\\Code\\ChungyuanProjects\\SpiderDataset01\\APP'\n",
    "\n",
    "GENERA_LIST_PATH = os.path.join(ROOT_DIR, 'bin', 'genera_list.csv')\n",
    "with open( GENERA_LIST_PATH, 'r') as f:\n",
    "    genera_list = f.read().strip().split(',')\n",
    "\n",
    "genera_list"
   ]
  },
  {
   "cell_type": "code",
   "execution_count": 5,
   "metadata": {},
   "outputs": [
    {
     "data": {
      "text/plain": [
       "'Araneus-ventricosus_21.jpg'"
      ]
     },
     "execution_count": 5,
     "metadata": {},
     "output_type": "execute_result"
    }
   ],
   "source": [
    "#display the bounding box of the image\n",
    "example_path = r'C:\\Code\\ChungyuanProjects\\SpiderDataset01\\APP\\runs\\detect\\exp'\n",
    "img_name = [x for x in os.listdir(example_path) if x.endswith('.jpg')][0]\n",
    "label_path = os.path.join(example_path, 'labels', img_name.replace('.jpg', '.txt'))"
   ]
  },
  {
   "cell_type": "code",
   "execution_count": 6,
   "metadata": {},
   "outputs": [
    {
     "data": {
      "text/plain": [
       "'C:\\\\Code\\\\ChungyuanProjects\\\\SpiderDataset01\\\\APP\\\\runs\\\\detect\\\\exp\\\\labels\\\\Araneus-ventricosus_21.txt'"
      ]
     },
     "execution_count": 6,
     "metadata": {},
     "output_type": "execute_result"
    }
   ],
   "source": []
  },
  {
   "cell_type": "code",
   "execution_count": 1,
   "metadata": {},
   "outputs": [
    {
     "name": "stdout",
     "output_type": "stream",
     "text": [
      "result/detection1\n"
     ]
    }
   ],
   "source": [
    "path = 'result/detection1'\n",
    "\n",
    "print(path)"
   ]
  },
  {
   "cell_type": "code",
   "execution_count": null,
   "metadata": {},
   "outputs": [],
   "source": [
    "import os\n",
    "from googletrans import Translator\n",
    "\n",
    "def available_name(file_dir, file_name):\n",
    "    i = 0\n",
    "    while os.path.exists(os.path.join(file_dir, file_name)):\n",
    "        i += 1\n",
    "        file_name = file_name.split('.')[0] + '_' + str(i) + '.jpg'\n",
    "\n",
    "# translate Chinese to English\n",
    "def translate_chinese_to_english(chinese_name):\n",
    "    # use googletrans to translate Chinese to English\n",
    "    translator = Translator()\n",
    "    return translator.translate(chinese_name, dest='en').text"
   ]
  },
  {
   "cell_type": "code",
   "execution_count": null,
   "metadata": {},
   "outputs": [],
   "source": [
    "text = \"abcde\"\n",
    "\n",
    "# make it italic\n",
    "print(f\"\\033[3m{text}\\033[0m\")\n",
    "\n",
    "text"
   ]
  },
  {
   "cell_type": "code",
   "execution_count": 1,
   "metadata": {},
   "outputs": [
    {
     "data": {
      "text/html": [
       "<div>\n",
       "<style scoped>\n",
       "    .dataframe tbody tr th:only-of-type {\n",
       "        vertical-align: middle;\n",
       "    }\n",
       "\n",
       "    .dataframe tbody tr th {\n",
       "        vertical-align: top;\n",
       "    }\n",
       "\n",
       "    .dataframe thead th {\n",
       "        text-align: right;\n",
       "    }\n",
       "</style>\n",
       "<table border=\"1\" class=\"dataframe\">\n",
       "  <thead>\n",
       "    <tr style=\"text-align: right;\">\n",
       "      <th></th>\n",
       "      <th>image</th>\n",
       "      <th>genus_1</th>\n",
       "      <th>gender_1</th>\n",
       "      <th>confidence_1</th>\n",
       "      <th>genus_2</th>\n",
       "      <th>gender_2</th>\n",
       "      <th>confidence_2</th>\n",
       "      <th>img_withbb_path</th>\n",
       "    </tr>\n",
       "  </thead>\n",
       "  <tbody>\n",
       "    <tr>\n",
       "      <th>0</th>\n",
       "      <td>Dolomedes_raptor_4_1</td>\n",
       "      <td>Dolomedes</td>\n",
       "      <td>F</td>\n",
       "      <td>80.77</td>\n",
       "      <td>NaN</td>\n",
       "      <td>NaN</td>\n",
       "      <td>NaN</td>\n",
       "      <td>C:\\APPs\\SpiderID_APP\\APP\\runs\\detect\\exp24\\Dol...</td>\n",
       "    </tr>\n",
       "    <tr>\n",
       "      <th>1</th>\n",
       "      <td>Dolomedes_raptor_4_10</td>\n",
       "      <td>Dolomedes</td>\n",
       "      <td>F</td>\n",
       "      <td>78.67</td>\n",
       "      <td>NaN</td>\n",
       "      <td>NaN</td>\n",
       "      <td>NaN</td>\n",
       "      <td>C:\\APPs\\SpiderID_APP\\APP\\runs\\detect\\exp24\\Dol...</td>\n",
       "    </tr>\n",
       "    <tr>\n",
       "      <th>2</th>\n",
       "      <td>Dolomedes_raptor_4_11</td>\n",
       "      <td>Dolomedes</td>\n",
       "      <td>F</td>\n",
       "      <td>80.60</td>\n",
       "      <td>NaN</td>\n",
       "      <td>NaN</td>\n",
       "      <td>NaN</td>\n",
       "      <td>C:\\APPs\\SpiderID_APP\\APP\\runs\\detect\\exp24\\Dol...</td>\n",
       "    </tr>\n",
       "    <tr>\n",
       "      <th>3</th>\n",
       "      <td>Dolomedes_raptor_4_12</td>\n",
       "      <td>Dolomedes</td>\n",
       "      <td>F</td>\n",
       "      <td>81.34</td>\n",
       "      <td>NaN</td>\n",
       "      <td>NaN</td>\n",
       "      <td>NaN</td>\n",
       "      <td>C:\\APPs\\SpiderID_APP\\APP\\runs\\detect\\exp24\\Dol...</td>\n",
       "    </tr>\n",
       "    <tr>\n",
       "      <th>4</th>\n",
       "      <td>Dolomedes_raptor_4_13</td>\n",
       "      <td>Dolomedes</td>\n",
       "      <td>F</td>\n",
       "      <td>81.62</td>\n",
       "      <td>NaN</td>\n",
       "      <td>NaN</td>\n",
       "      <td>NaN</td>\n",
       "      <td>C:\\APPs\\SpiderID_APP\\APP\\runs\\detect\\exp24\\Dol...</td>\n",
       "    </tr>\n",
       "    <tr>\n",
       "      <th>5</th>\n",
       "      <td>Dolomedes_raptor_4_14</td>\n",
       "      <td>Dolomedes</td>\n",
       "      <td>F</td>\n",
       "      <td>83.68</td>\n",
       "      <td>NaN</td>\n",
       "      <td>NaN</td>\n",
       "      <td>NaN</td>\n",
       "      <td>C:\\APPs\\SpiderID_APP\\APP\\runs\\detect\\exp24\\Dol...</td>\n",
       "    </tr>\n",
       "    <tr>\n",
       "      <th>6</th>\n",
       "      <td>Dolomedes_raptor_4_15</td>\n",
       "      <td>Dolomedes</td>\n",
       "      <td>F</td>\n",
       "      <td>82.14</td>\n",
       "      <td>NaN</td>\n",
       "      <td>NaN</td>\n",
       "      <td>NaN</td>\n",
       "      <td>C:\\APPs\\SpiderID_APP\\APP\\runs\\detect\\exp24\\Dol...</td>\n",
       "    </tr>\n",
       "    <tr>\n",
       "      <th>7</th>\n",
       "      <td>Dolomedes_raptor_4_16</td>\n",
       "      <td>Dolomedes</td>\n",
       "      <td>F</td>\n",
       "      <td>83.54</td>\n",
       "      <td>NaN</td>\n",
       "      <td>NaN</td>\n",
       "      <td>NaN</td>\n",
       "      <td>C:\\APPs\\SpiderID_APP\\APP\\runs\\detect\\exp24\\Dol...</td>\n",
       "    </tr>\n",
       "    <tr>\n",
       "      <th>8</th>\n",
       "      <td>Dolomedes_raptor_4_17</td>\n",
       "      <td>Dolomedes</td>\n",
       "      <td>F</td>\n",
       "      <td>82.99</td>\n",
       "      <td>NaN</td>\n",
       "      <td>NaN</td>\n",
       "      <td>NaN</td>\n",
       "      <td>C:\\APPs\\SpiderID_APP\\APP\\runs\\detect\\exp24\\Dol...</td>\n",
       "    </tr>\n",
       "    <tr>\n",
       "      <th>9</th>\n",
       "      <td>Dolomedes_raptor_4_2</td>\n",
       "      <td>Dolomedes</td>\n",
       "      <td>F</td>\n",
       "      <td>77.80</td>\n",
       "      <td>NaN</td>\n",
       "      <td>NaN</td>\n",
       "      <td>NaN</td>\n",
       "      <td>C:\\APPs\\SpiderID_APP\\APP\\runs\\detect\\exp24\\Dol...</td>\n",
       "    </tr>\n",
       "    <tr>\n",
       "      <th>10</th>\n",
       "      <td>Dolomedes_raptor_4_3</td>\n",
       "      <td>Dolomedes</td>\n",
       "      <td>F</td>\n",
       "      <td>77.80</td>\n",
       "      <td>NaN</td>\n",
       "      <td>NaN</td>\n",
       "      <td>NaN</td>\n",
       "      <td>C:\\APPs\\SpiderID_APP\\APP\\runs\\detect\\exp24\\Dol...</td>\n",
       "    </tr>\n",
       "    <tr>\n",
       "      <th>11</th>\n",
       "      <td>Dolomedes_raptor_4_4</td>\n",
       "      <td>Dolomedes</td>\n",
       "      <td>F</td>\n",
       "      <td>76.00</td>\n",
       "      <td>NaN</td>\n",
       "      <td>NaN</td>\n",
       "      <td>NaN</td>\n",
       "      <td>C:\\APPs\\SpiderID_APP\\APP\\runs\\detect\\exp24\\Dol...</td>\n",
       "    </tr>\n",
       "    <tr>\n",
       "      <th>12</th>\n",
       "      <td>Dolomedes_raptor_4_5</td>\n",
       "      <td>Dolomedes</td>\n",
       "      <td>F</td>\n",
       "      <td>77.27</td>\n",
       "      <td>NaN</td>\n",
       "      <td>NaN</td>\n",
       "      <td>NaN</td>\n",
       "      <td>C:\\APPs\\SpiderID_APP\\APP\\runs\\detect\\exp24\\Dol...</td>\n",
       "    </tr>\n",
       "    <tr>\n",
       "      <th>13</th>\n",
       "      <td>Dolomedes_raptor_4_6</td>\n",
       "      <td>Dolomedes</td>\n",
       "      <td>F</td>\n",
       "      <td>78.43</td>\n",
       "      <td>NaN</td>\n",
       "      <td>NaN</td>\n",
       "      <td>NaN</td>\n",
       "      <td>C:\\APPs\\SpiderID_APP\\APP\\runs\\detect\\exp24\\Dol...</td>\n",
       "    </tr>\n",
       "    <tr>\n",
       "      <th>14</th>\n",
       "      <td>Dolomedes_raptor_4_7</td>\n",
       "      <td>Dolomedes</td>\n",
       "      <td>F</td>\n",
       "      <td>77.81</td>\n",
       "      <td>NaN</td>\n",
       "      <td>NaN</td>\n",
       "      <td>NaN</td>\n",
       "      <td>C:\\APPs\\SpiderID_APP\\APP\\runs\\detect\\exp24\\Dol...</td>\n",
       "    </tr>\n",
       "    <tr>\n",
       "      <th>15</th>\n",
       "      <td>Dolomedes_raptor_4_8</td>\n",
       "      <td>Dolomedes</td>\n",
       "      <td>F</td>\n",
       "      <td>79.10</td>\n",
       "      <td>NaN</td>\n",
       "      <td>NaN</td>\n",
       "      <td>NaN</td>\n",
       "      <td>C:\\APPs\\SpiderID_APP\\APP\\runs\\detect\\exp24\\Dol...</td>\n",
       "    </tr>\n",
       "    <tr>\n",
       "      <th>16</th>\n",
       "      <td>Dolomedes_raptor_4_9</td>\n",
       "      <td>Dolomedes</td>\n",
       "      <td>F</td>\n",
       "      <td>78.44</td>\n",
       "      <td>NaN</td>\n",
       "      <td>NaN</td>\n",
       "      <td>NaN</td>\n",
       "      <td>C:\\APPs\\SpiderID_APP\\APP\\runs\\detect\\exp24\\Dol...</td>\n",
       "    </tr>\n",
       "  </tbody>\n",
       "</table>\n",
       "</div>"
      ],
      "text/plain": [
       "                    image    genus_1 gender_1  confidence_1  genus_2  \\\n",
       "0    Dolomedes_raptor_4_1  Dolomedes        F         80.77      NaN   \n",
       "1   Dolomedes_raptor_4_10  Dolomedes        F         78.67      NaN   \n",
       "2   Dolomedes_raptor_4_11  Dolomedes        F         80.60      NaN   \n",
       "3   Dolomedes_raptor_4_12  Dolomedes        F         81.34      NaN   \n",
       "4   Dolomedes_raptor_4_13  Dolomedes        F         81.62      NaN   \n",
       "5   Dolomedes_raptor_4_14  Dolomedes        F         83.68      NaN   \n",
       "6   Dolomedes_raptor_4_15  Dolomedes        F         82.14      NaN   \n",
       "7   Dolomedes_raptor_4_16  Dolomedes        F         83.54      NaN   \n",
       "8   Dolomedes_raptor_4_17  Dolomedes        F         82.99      NaN   \n",
       "9    Dolomedes_raptor_4_2  Dolomedes        F         77.80      NaN   \n",
       "10   Dolomedes_raptor_4_3  Dolomedes        F         77.80      NaN   \n",
       "11   Dolomedes_raptor_4_4  Dolomedes        F         76.00      NaN   \n",
       "12   Dolomedes_raptor_4_5  Dolomedes        F         77.27      NaN   \n",
       "13   Dolomedes_raptor_4_6  Dolomedes        F         78.43      NaN   \n",
       "14   Dolomedes_raptor_4_7  Dolomedes        F         77.81      NaN   \n",
       "15   Dolomedes_raptor_4_8  Dolomedes        F         79.10      NaN   \n",
       "16   Dolomedes_raptor_4_9  Dolomedes        F         78.44      NaN   \n",
       "\n",
       "    gender_2  confidence_2                                    img_withbb_path  \n",
       "0        NaN           NaN  C:\\APPs\\SpiderID_APP\\APP\\runs\\detect\\exp24\\Dol...  \n",
       "1        NaN           NaN  C:\\APPs\\SpiderID_APP\\APP\\runs\\detect\\exp24\\Dol...  \n",
       "2        NaN           NaN  C:\\APPs\\SpiderID_APP\\APP\\runs\\detect\\exp24\\Dol...  \n",
       "3        NaN           NaN  C:\\APPs\\SpiderID_APP\\APP\\runs\\detect\\exp24\\Dol...  \n",
       "4        NaN           NaN  C:\\APPs\\SpiderID_APP\\APP\\runs\\detect\\exp24\\Dol...  \n",
       "5        NaN           NaN  C:\\APPs\\SpiderID_APP\\APP\\runs\\detect\\exp24\\Dol...  \n",
       "6        NaN           NaN  C:\\APPs\\SpiderID_APP\\APP\\runs\\detect\\exp24\\Dol...  \n",
       "7        NaN           NaN  C:\\APPs\\SpiderID_APP\\APP\\runs\\detect\\exp24\\Dol...  \n",
       "8        NaN           NaN  C:\\APPs\\SpiderID_APP\\APP\\runs\\detect\\exp24\\Dol...  \n",
       "9        NaN           NaN  C:\\APPs\\SpiderID_APP\\APP\\runs\\detect\\exp24\\Dol...  \n",
       "10       NaN           NaN  C:\\APPs\\SpiderID_APP\\APP\\runs\\detect\\exp24\\Dol...  \n",
       "11       NaN           NaN  C:\\APPs\\SpiderID_APP\\APP\\runs\\detect\\exp24\\Dol...  \n",
       "12       NaN           NaN  C:\\APPs\\SpiderID_APP\\APP\\runs\\detect\\exp24\\Dol...  \n",
       "13       NaN           NaN  C:\\APPs\\SpiderID_APP\\APP\\runs\\detect\\exp24\\Dol...  \n",
       "14       NaN           NaN  C:\\APPs\\SpiderID_APP\\APP\\runs\\detect\\exp24\\Dol...  \n",
       "15       NaN           NaN  C:\\APPs\\SpiderID_APP\\APP\\runs\\detect\\exp24\\Dol...  \n",
       "16       NaN           NaN  C:\\APPs\\SpiderID_APP\\APP\\runs\\detect\\exp24\\Dol...  "
      ]
     },
     "execution_count": 1,
     "metadata": {},
     "output_type": "execute_result"
    }
   ],
   "source": [
    "# load csv from C:\\APPs\\SpiderID_APP\\APP\\result\\exp24\\result.csv\n",
    "import pandas as pd\n",
    "import os\n",
    "\n",
    "df = pd.read_csv(r'C:\\APPs\\SpiderID_APP\\APP\\result\\exp24\\result.csv')\n",
    "df"
   ]
  },
  {
   "cell_type": "code",
   "execution_count": 7,
   "metadata": {},
   "outputs": [
    {
     "data": {
      "text/plain": [
       "['F', nan]"
      ]
     },
     "execution_count": 7,
     "metadata": {},
     "output_type": "execute_result"
    }
   ],
   "source": [
    "genders = df['gender_1'].unique().tolist() + df['gender_2'].unique().tolist()\n",
    "genders"
   ]
  },
  {
   "cell_type": "code",
   "execution_count": null,
   "metadata": {},
   "outputs": [],
   "source": []
  }
 ],
 "metadata": {
  "kernelspec": {
   "display_name": "Python 3.9.13 ('myenv')",
   "language": "python",
   "name": "python3"
  },
  "language_info": {
   "codemirror_mode": {
    "name": "ipython",
    "version": 3
   },
   "file_extension": ".py",
   "mimetype": "text/x-python",
   "name": "python",
   "nbconvert_exporter": "python",
   "pygments_lexer": "ipython3",
   "version": "3.9.13"
  },
  "orig_nbformat": 4,
  "vscode": {
   "interpreter": {
    "hash": "de1e89af3ef8b17e93d79e53c27fdd6267335e03ee420ef3296d6319bf4dd9be"
   }
  }
 },
 "nbformat": 4,
 "nbformat_minor": 2
}
